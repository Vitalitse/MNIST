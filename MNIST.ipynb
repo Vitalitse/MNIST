{
  "nbformat": 4,
  "nbformat_minor": 0,
  "metadata": {
    "colab": {
      "name": "MNIST.ipynb",
      "provenance": [],
      "authorship_tag": "ABX9TyP7MJCrRnd11DUfBUbKXJqZ",
      "include_colab_link": true
    },
    "kernelspec": {
      "name": "python3",
      "display_name": "Python 3"
    },
    "language_info": {
      "name": "python"
    }
  },
  "cells": [
    {
      "cell_type": "markdown",
      "metadata": {
        "id": "view-in-github",
        "colab_type": "text"
      },
      "source": [
        "<a href=\"https://colab.research.google.com/github/Vitalitse/MNIST/blob/main/MNIST.ipynb\" target=\"_parent\"><img src=\"https://colab.research.google.com/assets/colab-badge.svg\" alt=\"Open In Colab\"/></a>"
      ]
    },
    {
      "cell_type": "code",
      "execution_count": 51,
      "metadata": {
        "id": "oNpMKf6utTww"
      },
      "outputs": [],
      "source": [
        "from keras.datasets import mnist \n",
        "import numpy as np\n",
        "import pandas as pd\n",
        "import random\n",
        "import matplotlib.pyplot as plt   \n",
        "from keras.models import Sequential  \n",
        "from keras.layers.core import Dense, Dropout, Activation\n",
        "from keras.preprocessing.image import ImageDataGenerator\n",
        "from keras.layers import Conv2D, MaxPooling2D, ZeroPadding2D, GlobalAveragePooling2D, Flatten, AvgPool2D\n",
        "from tensorflow.keras.optimizers import Adam\n",
        "from tensorflow.keras.layers import BatchNormalization"
      ]
    },
    {
      "cell_type": "code",
      "source": [
        "# Load the mnist data\n",
        "(features_train, target_train), (features_test, target_test) = mnist.load_data()"
      ],
      "metadata": {
        "id": "i-0oBQ0ZtVsd"
      },
      "execution_count": 138,
      "outputs": []
    },
    {
      "cell_type": "code",
      "source": [
        "#See example of 4 imgaes from our train data\n",
        "\n",
        "#Large figures\n",
        "plt.rcParams['figure.figsize'] = (6,6)\n",
        "\n",
        "#Chose 4 random numbers and present with their classes\n",
        "for i in range (4):\n",
        "  plt.subplot(2,2,i+1)\n",
        "  #Choose random image\n",
        "  number = random.randint(0, len(features_train))\n",
        "  plt.imshow(features_train[number], cmap='gray')\n",
        "  plt.title('Image class: {}'.format(target_train[number]))\n",
        "\n",
        "plt.tight_layout()  "
      ],
      "metadata": {
        "colab": {
          "base_uri": "https://localhost:8080/",
          "height": 441
        },
        "id": "uxIfgPmutj75",
        "outputId": "d0ad0016-bb4d-43e7-a3bd-e5ca327cb2f2"
      },
      "execution_count": 140,
      "outputs": [
        {
          "output_type": "display_data",
          "data": {
            "text/plain": [
              "<Figure size 432x432 with 4 Axes>"
            ],
            "image/png": "[encoded data removed]"
          },
          "metadata": {
            "needs_background": "light"
          }
        }
      ]
    },
    {
      "cell_type": "markdown",
      "source": [
        "# Convolutional Neural Networks"
      ],
      "metadata": {
        "id": "vfD6GtpgxA2p"
      }
    },
    {
      "cell_type": "code",
      "source": [
        "print('Train shape:',features_train.shape)\n",
        "print('Test shape:',features_test.shape)"
      ],
      "metadata": {
        "colab": {
          "base_uri": "https://localhost:8080/"
        },
        "id": "Xd32cTVOv-mn",
        "outputId": "659d1098-bf5b-4b70-9a17-19b0f02a4e4e"
      },
      "execution_count": 142,
      "outputs": [
        {
          "output_type": "stream",
          "name": "stdout",
          "text": [
            "Train shape: (60000, 28, 28)\n",
            "Test shape: (10000, 28, 28)\n"
          ]
        }
      ]
    },
    {
      "cell_type": "code",
      "source": [
        "# We will reshape dimentions to represent one color/single channel to use CNN, becuase CNNs are designed to the image as an RGB image\n",
        "# Normalaize the data by dividing by 255 (-1 to use the original size)\n",
        "\n",
        "features_train = features_train.reshape(-1, 28, 28, 1) / 255\n",
        "\n",
        "features_test = features_test.reshape(-1, 28, 28, 1) / 255"
      ],
      "metadata": {
        "id": "FWLMfR1PxX5e"
      },
      "execution_count": 144,
      "outputs": []
    },
    {
      "cell_type": "code",
      "source": [
        "print(\"Train set reshaped:\", features_train.shape)\n",
        "print(\"Test shape reshaped:\", features_test.shape)"
      ],
      "metadata": {
        "colab": {
          "base_uri": "https://localhost:8080/"
        },
        "id": "ZQBtXpP9yej4",
        "outputId": "aa291dee-3920-4dbe-b7fb-537a51211ffb"
      },
      "execution_count": 146,
      "outputs": [
        {
          "output_type": "stream",
          "name": "stdout",
          "text": [
            "Train set reshaped: (60000, 28, 28, 1)\n",
            "Test shape reshaped: (10000, 28, 28, 1)\n"
          ]
        }
      ]
    },
    {
      "cell_type": "code",
      "source": [
        "pd.DataFrame(target_train).value_counts().plot(kind='bar')\n",
        "plt.title('Train target distribution', size=15)\n",
        "plt.show()"
      ],
      "metadata": {
        "colab": {
          "base_uri": "https://localhost:8080/",
          "height": 413
        },
        "id": "McSDoDQJ17cL",
        "outputId": "14d65ba9-130e-4e5f-efe7-f77b3f182777"
      },
      "execution_count": 148,
      "outputs": [
        {
          "output_type": "display_data",
          "data": {
            "text/plain": [
              "<Figure size 432x432 with 1 Axes>"
            ],
            "image/png": "[encoded data removed]"
          },
          "metadata": {
            "needs_background": "light"
          }
        }
      ]
    },
    {
      "cell_type": "markdown",
      "source": [
        "The data seems balanced"
      ],
      "metadata": {
        "id": "7jpo50A63Dw6"
      }
    },
    {
      "cell_type": "markdown",
      "source": [
        "# Build Coonolutional Neural Network"
      ],
      "metadata": {
        "id": "3lMPa2fifVOF"
      }
    },
    {
      "cell_type": "markdown",
      "source": [
        "Writing good CNN is an ampiric process. We will write a CNN which was found to work well on MNIST dataset."
      ],
      "metadata": {
        "id": "ZvaM2aAofjJL"
      }
    },
    {
      "cell_type": "code",
      "source": [
        "#We will use the common optimizer - Adam with learning rate of 0.001\n",
        "optimizer = Adam(lr=0.001)"
      ],
      "metadata": {
        "colab": {
          "base_uri": "https://localhost:8080/"
        },
        "id": "y-54Dgga1kF7",
        "outputId": "e06d2cc7-927e-4b61-c745-1981f0f6d10b"
      },
      "execution_count": 149,
      "outputs": [
        {
          "output_type": "stream",
          "name": "stderr",
          "text": [
            "/usr/local/lib/python3.7/dist-packages/keras/optimizer_v2/adam.py:105: UserWarning: The `lr` argument is deprecated, use `learning_rate` instead.\n",
            "  super(Adam, self).__init__(name, **kwargs)\n"
          ]
        }
      ]
    },
    {
      "cell_type": "code",
      "source": [
        "model = Sequential() \n",
        "\n",
        "#Convolutional Layer 1\n",
        "#Use 'same' padding - add 0 in order to run filters symetrically on all features.\n",
        "model.add(Conv2D(filters=24, kernel_size=(5,5), input_shape=(28,28,1), activation='relu', padding='same'))\n",
        "\n",
        "#Max pooling\n",
        "model.add(MaxPooling2D(pool_size=(2,2)))\n",
        "\n",
        "#Convolutional Layer 2\n",
        "#Add strides = 2, in order to move 2 steps each time\n",
        "model.add(Conv2D(filters=48, kernel_size=(5,5), activation='relu', strides=2, padding='same'))\n",
        "\n",
        "#Max pooling\n",
        "model.add(MaxPooling2D(pool_size=(2,2)))\n",
        "\n",
        "#Convolutional Layer 3\n",
        "model.add(Conv2D(filters=64, kernel_size=(5,5), activation='relu', strides=2, padding='same'))\n",
        "\n",
        "\n",
        "#Max pooling\n",
        "model.add(MaxPooling2D(pool_size=(2,2)))\n",
        "\n",
        "#converting into vector\n",
        "model.add(Flatten())\n",
        "\n",
        "#Fully connected layer with 256 nuerons\n",
        "model.add(Dense(units=256, activation='relu'))\n",
        "\n",
        "#Add dropout of 20% of random nodes for better generalization\n",
        "model.add(Dropout(0.2))\n",
        "\n",
        "#For output layer with 0 - 9 (10) digits - we will use softmax activation function. It takes several outputs of the networks and returns probabilities that are all equal to one.\n",
        "model.add(Dense(units=10, activation='softmax'))\n",
        "\n",
        "#Compiler\n",
        "#For clasiffication problems use: sparse_categorical_crossentropy\n",
        "# The data is balanced so we will use accuracy metrics\n",
        "model.compile(loss='sparse_categorical_crossentropy', optimizer='adam', metrics=['acc'])\n",
        "\n",
        "#Summary: Since batch size can vary, its size is represented by None\n",
        "model.summary()"
      ],
      "metadata": {
        "colab": {
          "base_uri": "https://localhost:8080/"
        },
        "id": "fqK05JwTzYL8",
        "outputId": "00314acf-78ab-427b-d681-a0dba055ee48"
      },
      "execution_count": 73,
      "outputs": [
        {
          "output_type": "stream",
          "name": "stdout",
          "text": [
            "Model: \"sequential_6\"\n",
            "_________________________________________________________________\n",
            " Layer (type)                Output Shape              Param #   \n",
            "=================================================================\n",
            " conv2d_18 (Conv2D)          (None, 28, 28, 24)        624       \n",
            "                                                                 \n",
            " max_pooling2d_9 (MaxPooling  (None, 14, 14, 24)       0         \n",
            " 2D)                                                             \n",
            "                                                                 \n",
            " conv2d_19 (Conv2D)          (None, 7, 7, 48)          28848     \n",
            "                                                                 \n",
            " max_pooling2d_10 (MaxPoolin  (None, 3, 3, 48)         0         \n",
            " g2D)                                                            \n",
            "                                                                 \n",
            " conv2d_20 (Conv2D)          (None, 2, 2, 64)          76864     \n",
            "                                                                 \n",
            " max_pooling2d_11 (MaxPoolin  (None, 1, 1, 64)         0         \n",
            " g2D)                                                            \n",
            "                                                                 \n",
            " flatten_5 (Flatten)         (None, 64)                0         \n",
            "                                                                 \n",
            " dense_10 (Dense)            (None, 256)               16640     \n",
            "                                                                 \n",
            " dropout (Dropout)           (None, 256)               0         \n",
            "                                                                 \n",
            " dense_11 (Dense)            (None, 10)                2570      \n",
            "                                                                 \n",
            "=================================================================\n",
            "Total params: 125,546\n",
            "Trainable params: 125,546\n",
            "Non-trainable params: 0\n",
            "_________________________________________________________________\n"
          ]
        }
      ]
    },
    {
      "cell_type": "markdown",
      "source": [
        "None - means no defined batch size.\n",
        "\n",
        "the Parm shows how many parameters are trained in each layer.\n",
        "\n",
        "All Maxpooling parameters are 0, this is because it dosn't learn anything, but reduces coplexity of the model. MAxPooling of (2,2) divides the input by 2.\n",
        "\n",
        "Multiplications + biases:\n",
        "\n",
        "For the first Con2D we calculate the number of parameters by: 24*(5*5*1)+24 = 624\n",
        "\n",
        "For second Conv2D: 48*(5*5*24) + 48 = 28,848\n",
        "\n",
        "For third Conv2D: 64*(5*5*48) + 64 = 76,864\n",
        "\n",
        "Flatten turns it into one vector, but doesn't learn anything, so the parameters are 0\n",
        "\n",
        "the Dense layer (FC), calculated as: 256*64+256 = 16,640\n",
        "\n",
        "Dropout learns nothing.\n",
        "\n",
        "Last Dense layer: 256*10+10 = 2,570\n",
        "\n",
        "Total parameters is the sum of all trained parameters."
      ],
      "metadata": {
        "id": "L0RPoUa-h_Z5"
      }
    },
    {
      "cell_type": "code",
      "source": [
        "#Add augmentation to add generalziation and avoid overfittment\n",
        "\n",
        "#Define fenerator: No horizontal or vertical flips as this could change the number\n",
        "train_datagen  = ImageDataGenerator(rotation_range=10, width_shift_range=0.1, height_shift_range=0.1, zoom_range=0.1)\n",
        "\n",
        "validation_datagen = ImageDataGenerator()"
      ],
      "metadata": {
        "id": "sCXEoRmHPz8-"
      },
      "execution_count": 125,
      "outputs": []
    },
    {
      "cell_type": "code",
      "source": [
        "#Use batch of 128 images\n",
        "train_generator = train_datagen.flow(features_train, target_train, batch_size=128)"
      ],
      "metadata": {
        "id": "6SvhhfwdP0Cv"
      },
      "execution_count": 126,
      "outputs": []
    },
    {
      "cell_type": "code",
      "source": [
        "#Use batch of 128 images\n",
        "valid_generator = validation_datagen.flow(features_test, target_test, batch_size=128)"
      ],
      "metadata": {
        "id": "dq-BCWkuP0Fe"
      },
      "execution_count": 127,
      "outputs": []
    },
    {
      "cell_type": "code",
      "source": [
        "#Model fot. steps per epoch are total size of data divided by batch size to completet an epoch\n",
        "\n",
        "model.fit_generator(train_generator, steps_per_epoch=60000/128, epochs = 5, verbose=1, validation_data=valid_generator, validation_steps=10000/128)"
      ],
      "metadata": {
        "colab": {
          "base_uri": "https://localhost:8080/"
        },
        "id": "djeQUVbzP0Hj",
        "outputId": "f50c9f71-02cd-4b78-c6e8-5570900d0b6d"
      },
      "execution_count": 128,
      "outputs": [
        {
          "output_type": "stream",
          "name": "stdout",
          "text": [
            "Epoch 1/5\n"
          ]
        },
        {
          "output_type": "stream",
          "name": "stderr",
          "text": [
            "/usr/local/lib/python3.7/dist-packages/ipykernel_launcher.py:3: UserWarning: `Model.fit_generator` is deprecated and will be removed in a future version. Please use `Model.fit`, which supports generators.\n",
            "  This is separate from the ipykernel package so we can avoid doing imports until\n"
          ]
        },
        {
          "output_type": "stream",
          "name": "stdout",
          "text": [
            "468/468 [==============================] - 65s 139ms/step - loss: 3.6856 - acc: 0.8545 - val_loss: 0.2182 - val_acc: 0.9421\n",
            "Epoch 2/5\n",
            "468/468 [==============================] - 65s 139ms/step - loss: 0.4169 - acc: 0.8843 - val_loss: 0.1638 - val_acc: 0.9551\n",
            "Epoch 3/5\n",
            "468/468 [==============================] - 65s 139ms/step - loss: 0.3523 - acc: 0.9020 - val_loss: 0.1412 - val_acc: 0.9593\n",
            "Epoch 4/5\n",
            "468/468 [==============================] - 65s 139ms/step - loss: 0.3018 - acc: 0.9150 - val_loss: 0.1239 - val_acc: 0.9632\n",
            "Epoch 5/5\n",
            "468/468 [==============================] - 65s 138ms/step - loss: 0.2664 - acc: 0.9242 - val_loss: 0.1136 - val_acc: 0.9662\n"
          ]
        },
        {
          "output_type": "execute_result",
          "data": {
            "text/plain": [
              "<keras.callbacks.History at 0x7f0a34b076d0>"
            ]
          },
          "metadata": {},
          "execution_count": 128
        }
      ]
    },
    {
      "cell_type": "code",
      "source": [
        "scores = model.evaluate(features_test, target_test)\n",
        "\n",
        "print('Test loss:', scores[0])\n",
        "print('Test accuracy:', scores[1])"
      ],
      "metadata": {
        "colab": {
          "base_uri": "https://localhost:8080/"
        },
        "id": "1AL1HpCUP0Jz",
        "outputId": "b2c79a3d-b2ca-494e-e70a-be16fda98367"
      },
      "execution_count": 129,
      "outputs": [
        {
          "output_type": "stream",
          "name": "stdout",
          "text": [
            "313/313 [==============================] - 4s 11ms/step - loss: 0.1136 - acc: 0.9662\n",
            "Test loss: 0.1135687381029129\n",
            "Test accuracy: 0.9661999940872192\n"
          ]
        }
      ]
    },
    {
      "cell_type": "markdown",
      "source": [
        "Best result of MNIST contest is 99.8%"
      ],
      "metadata": {
        "id": "eT0KzFfBAaNl"
      }
    },
    {
      "cell_type": "code",
      "source": [
        "results = model.predict(features_test)"
      ],
      "metadata": {
        "id": "YMxjv4H0A7cI"
      },
      "execution_count": 130,
      "outputs": []
    },
    {
      "cell_type": "code",
      "source": [
        "results = pd.Series(np.argmax(results,axis = 1), name=\"pred_class\")"
      ],
      "metadata": {
        "id": "CrmvfIb-YK_I"
      },
      "execution_count": 131,
      "outputs": []
    },
    {
      "cell_type": "code",
      "source": [
        "final = pd.concat([results, pd.Series(target_test, name='real_class')], axis=1)"
      ],
      "metadata": {
        "id": "PmQm-PlgZLjk"
      },
      "execution_count": 132,
      "outputs": []
    },
    {
      "cell_type": "code",
      "source": [
        "final[final['pred_class']!=final['real_class']]"
      ],
      "metadata": {
        "id": "7lvTWaxeaXqc",
        "outputId": "345417cd-6e32-4b19-abc3-a2f9510ea38e",
        "colab": {
          "base_uri": "https://localhost:8080/",
          "height": 423
        }
      },
      "execution_count": 133,
      "outputs": [
        {
          "output_type": "execute_result",
          "data": {
            "text/plain": [
              "      pred_class  real_class\n",
              "62             5           9\n",
              "151            3           9\n",
              "217            5           6\n",
              "241            5           9\n",
              "247            6           4\n",
              "...          ...         ...\n",
              "9879           8           0\n",
              "9888           0           6\n",
              "9904           3           2\n",
              "9905           7           3\n",
              "9926           2           8\n",
              "\n",
              "[338 rows x 2 columns]"
            ],
            "text/html": [
              "\n",
              "  <div id=\"df-c2c92f48-82a8-4fce-8724-937e018be045\">\n",
              "    <div class=\"colab-df-container\">\n",
              "      <div>\n",
              "<style scoped>\n",
              "    .dataframe tbody tr th:only-of-type {\n",
              "        vertical-align: middle;\n",
              "    }\n",
              "\n",
              "    .dataframe tbody tr th {\n",
              "        vertical-align: top;\n",
              "    }\n",
              "\n",
              "    .dataframe thead th {\n",
              "        text-align: right;\n",
              "    }\n",
              "</style>\n",
              "<table border=\"1\" class=\"dataframe\">\n",
              "  <thead>\n",
              "    <tr style=\"text-align: right;\">\n",
              "      <th></th>\n",
              "      <th>pred_class</th>\n",
              "      <th>real_class</th>\n",
              "    </tr>\n",
              "  </thead>\n",
              "  <tbody>\n",
              "    <tr>\n",
              "      <th>62</th>\n",
              "      <td>5</td>\n",
              "      <td>9</td>\n",
              "    </tr>\n",
              "    <tr>\n",
              "      <th>151</th>\n",
              "      <td>3</td>\n",
              "      <td>9</td>\n",
              "    </tr>\n",
              "    <tr>\n",
              "      <th>217</th>\n",
              "      <td>5</td>\n",
              "      <td>6</td>\n",
              "    </tr>\n",
              "    <tr>\n",
              "      <th>241</th>\n",
              "      <td>5</td>\n",
              "      <td>9</td>\n",
              "    </tr>\n",
              "    <tr>\n",
              "      <th>247</th>\n",
              "      <td>6</td>\n",
              "      <td>4</td>\n",
              "    </tr>\n",
              "    <tr>\n",
              "      <th>...</th>\n",
              "      <td>...</td>\n",
              "      <td>...</td>\n",
              "    </tr>\n",
              "    <tr>\n",
              "      <th>9879</th>\n",
              "      <td>8</td>\n",
              "      <td>0</td>\n",
              "    </tr>\n",
              "    <tr>\n",
              "      <th>9888</th>\n",
              "      <td>0</td>\n",
              "      <td>6</td>\n",
              "    </tr>\n",
              "    <tr>\n",
              "      <th>9904</th>\n",
              "      <td>3</td>\n",
              "      <td>2</td>\n",
              "    </tr>\n",
              "    <tr>\n",
              "      <th>9905</th>\n",
              "      <td>7</td>\n",
              "      <td>3</td>\n",
              "    </tr>\n",
              "    <tr>\n",
              "      <th>9926</th>\n",
              "      <td>2</td>\n",
              "      <td>8</td>\n",
              "    </tr>\n",
              "  </tbody>\n",
              "</table>\n",
              "<p>338 rows × 2 columns</p>\n",
              "</div>\n",
              "      <button class=\"colab-df-convert\" onclick=\"convertToInteractive('df-c2c92f48-82a8-4fce-8724-937e018be045')\"\n",
              "              title=\"Convert this dataframe to an interactive table.\"\n",
              "              style=\"display:none;\">\n",
              "        \n",
              "  <svg xmlns=\"http://www.w3.org/2000/svg\" height=\"24px\"viewBox=\"0 0 24 24\"\n",
              "       width=\"24px\">\n",
              "    <path d=\"M0 0h24v24H0V0z\" fill=\"none\"/>\n",
              "    <path d=\"M18.56 5.44l.94 2.06.94-2.06 2.06-.94-2.06-.94-.94-2.06-.94 2.06-2.06.94zm-11 1L8.5 8.5l.94-2.06 2.06-.94-2.06-.94L8.5 2.5l-.94 2.06-2.06.94zm10 10l.94 2.06.94-2.06 2.06-.94-2.06-.94-.94-2.06-.94 2.06-2.06.94z\"/><path d=\"M17.41 7.96l-1.37-1.37c-.4-.4-.92-.59-1.43-.59-.52 0-1.04.2-1.43.59L10.3 9.45l-7.72 7.72c-.78.78-.78 2.05 0 2.83L4 21.41c.39.39.9.59 1.41.59.51 0 1.02-.2 1.41-.59l7.78-7.78 2.81-2.81c.8-.78.8-2.07 0-2.86zM5.41 20L4 18.59l7.72-7.72 1.47 1.35L5.41 20z\"/>\n",
              "  </svg>\n",
              "      </button>\n",
              "      \n",
              "  <style>\n",
              "    .colab-df-container {\n",
              "      display:flex;\n",
              "      flex-wrap:wrap;\n",
              "      gap: 12px;\n",
              "    }\n",
              "\n",
              "    .colab-df-convert {\n",
              "      background-color: #E8F0FE;\n",
              "      border: none;\n",
              "      border-radius: 50%;\n",
              "      cursor: pointer;\n",
              "      display: none;\n",
              "      fill: #1967D2;\n",
              "      height: 32px;\n",
              "      padding: 0 0 0 0;\n",
              "      width: 32px;\n",
              "    }\n",
              "\n",
              "    .colab-df-convert:hover {\n",
              "      background-color: #E2EBFA;\n",
              "      box-shadow: 0px 1px 2px rgba(60, 64, 67, 0.3), 0px 1px 3px 1px rgba(60, 64, 67, 0.15);\n",
              "      fill: #174EA6;\n",
              "    }\n",
              "\n",
              "    [theme=dark] .colab-df-convert {\n",
              "      background-color: #3B4455;\n",
              "      fill: #D2E3FC;\n",
              "    }\n",
              "\n",
              "    [theme=dark] .colab-df-convert:hover {\n",
              "      background-color: #434B5C;\n",
              "      box-shadow: 0px 1px 3px 1px rgba(0, 0, 0, 0.15);\n",
              "      filter: drop-shadow(0px 1px 2px rgba(0, 0, 0, 0.3));\n",
              "      fill: #FFFFFF;\n",
              "    }\n",
              "  </style>\n",
              "\n",
              "      <script>\n",
              "        const buttonEl =\n",
              "          document.querySelector('#df-c2c92f48-82a8-4fce-8724-937e018be045 button.colab-df-convert');\n",
              "        buttonEl.style.display =\n",
              "          google.colab.kernel.accessAllowed ? 'block' : 'none';\n",
              "\n",
              "        async function convertToInteractive(key) {\n",
              "          const element = document.querySelector('#df-c2c92f48-82a8-4fce-8724-937e018be045');\n",
              "          const dataTable =\n",
              "            await google.colab.kernel.invokeFunction('convertToInteractive',\n",
              "                                                     [key], {});\n",
              "          if (!dataTable) return;\n",
              "\n",
              "          const docLinkHtml = 'Like what you see? Visit the ' +\n",
              "            '<a target=\"_blank\" href=https://colab.research.google.com/notebooks/data_table.ipynb>data table notebook</a>'\n",
              "            + ' to learn more about interactive tables.';\n",
              "          element.innerHTML = '';\n",
              "          dataTable['output_type'] = 'display_data';\n",
              "          await google.colab.output.renderOutput(dataTable, element);\n",
              "          const docLink = document.createElement('div');\n",
              "          docLink.innerHTML = docLinkHtml;\n",
              "          element.appendChild(docLink);\n",
              "        }\n",
              "      </script>\n",
              "    </div>\n",
              "  </div>\n",
              "  "
            ]
          },
          "metadata": {},
          "execution_count": 133
        }
      ]
    },
    {
      "cell_type": "code",
      "source": [
        "#See a mistaked prediction\n",
        "plt.imshow(features_test[62].reshape(28,28), cmap='gray');"
      ],
      "metadata": {
        "id": "0nYAzTR6ZbyT",
        "outputId": "0028d79c-1e78-4ffd-dd95-02cd95be107e",
        "colab": {
          "base_uri": "https://localhost:8080/",
          "height": 264
        }
      },
      "execution_count": 136,
      "outputs": [
        {
          "output_type": "display_data",
          "data": {
            "text/plain": [
              "<Figure size 432x288 with 1 Axes>"
            ],
            "image/png": "[encoded data removed]"
          },
          "metadata": {
            "needs_background": "light"
          }
        }
      ]
    },
    {
      "cell_type": "code",
      "source": [
        ""
      ],
      "metadata": {
        "id": "x1vkZJaBZ80Q"
      },
      "execution_count": null,
      "outputs": []
    }
  ]
}